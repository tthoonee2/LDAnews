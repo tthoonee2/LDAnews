{
 "cells": [
  {
   "cell_type": "markdown",
   "id": "e8961485",
   "metadata": {},
   "source": [
    "<H1>LDA topic modelling 2000 --> 2020</H1>\n",
    "<p> starting with the Gensim model, beneath is the sklearn model<p>"
   ]
  },
  {
   "cell_type": "markdown",
   "id": "80dd3db9",
   "metadata": {},
   "source": [
    "import the libraries needed for the gensim model:"
   ]
  },
  {
   "cell_type": "code",
   "execution_count": 1,
   "id": "33d5a8b7",
   "metadata": {},
   "outputs": [],
   "source": [
    "#import re\n",
    "import numpy as np\n",
    "import pandas as pd\n",
    "from pprint import pprint\n",
    "\n",
    "import nltk\n",
    "\n",
    "#Gensim\n",
    "import gensim #environment\n",
    "import gensim.corpora as corpora #corpus\n",
    "from gensim.utils import simple_preprocess #document preprocess\n",
    "from gensim.models import CoherenceModel #Coherence model to check the well functioning of the model\n",
    "\n",
    "# spacy for lemmatization\n",
    "import spacy #--> recalling for the nlp the english core\n",
    "\n",
    "# Plotting tools\n",
    "import pyLDAvis #model visualization environment\n",
    "import pyLDAvis.gensim_models  # dedicated to gensim models\n",
    "import matplotlib.pyplot as plt\n",
    "%matplotlib inline\n",
    "\n",
    "# Enable logging for gensim - optional\n",
    "import logging\n",
    "logging.basicConfig(format='%(asctime)s : %(levelname)s : %(message)s', level=logging.ERROR)\n",
    "import tqdm as t #to check for the loops.\n",
    "\n",
    "import warnings\n",
    "warnings.filterwarnings(\"ignore\",category=DeprecationWarning)\n"
   ]
  },
  {
   "cell_type": "code",
   "execution_count": 2,
   "id": "c3a0280a",
   "metadata": {},
   "outputs": [
    {
     "name": "stderr",
     "output_type": "stream",
     "text": [
      "[nltk_data] Downloading package stopwords to\n",
      "[nltk_data]     C:\\Users\\Utente\\AppData\\Roaming\\nltk_data...\n",
      "[nltk_data]   Package stopwords is already up-to-date!\n"
     ]
    },
    {
     "data": {
      "text/plain": [
       "True"
      ]
     },
     "execution_count": 2,
     "metadata": {},
     "output_type": "execute_result"
    }
   ],
   "source": [
    "nltk.download('stopwords')"
   ]
  },
  {
   "cell_type": "code",
   "execution_count": 3,
   "id": "5d925aba",
   "metadata": {},
   "outputs": [],
   "source": [
    "from nltk.corpus import stopwords\n",
    "stop_words = stopwords.words('english')\n",
    "#stop_words.extend(['from', 'subject', 're', 'edu', 'use','https','co'])"
   ]
  },
  {
   "cell_type": "code",
   "execution_count": 4,
   "id": "a3fb001f",
   "metadata": {},
   "outputs": [
    {
     "data": {
      "text/html": [
       "<div>\n",
       "<style scoped>\n",
       "    .dataframe tbody tr th:only-of-type {\n",
       "        vertical-align: middle;\n",
       "    }\n",
       "\n",
       "    .dataframe tbody tr th {\n",
       "        vertical-align: top;\n",
       "    }\n",
       "\n",
       "    .dataframe thead th {\n",
       "        text-align: right;\n",
       "    }\n",
       "</style>\n",
       "<table border=\"1\" class=\"dataframe\">\n",
       "  <thead>\n",
       "    <tr style=\"text-align: right;\">\n",
       "      <th></th>\n",
       "      <th>publish_date</th>\n",
       "      <th>headline_text</th>\n",
       "    </tr>\n",
       "  </thead>\n",
       "  <tbody>\n",
       "    <tr>\n",
       "      <th>0</th>\n",
       "      <td>20030219</td>\n",
       "      <td>aba decides against community broadcasting lic...</td>\n",
       "    </tr>\n",
       "    <tr>\n",
       "      <th>1</th>\n",
       "      <td>20030219</td>\n",
       "      <td>act fire witnesses must be aware of defamation</td>\n",
       "    </tr>\n",
       "    <tr>\n",
       "      <th>2</th>\n",
       "      <td>20030219</td>\n",
       "      <td>a g calls for infrastructure protection summit</td>\n",
       "    </tr>\n",
       "    <tr>\n",
       "      <th>3</th>\n",
       "      <td>20030219</td>\n",
       "      <td>air nz staff in aust strike for pay rise</td>\n",
       "    </tr>\n",
       "    <tr>\n",
       "      <th>4</th>\n",
       "      <td>20030219</td>\n",
       "      <td>air nz strike to affect australian travellers</td>\n",
       "    </tr>\n",
       "    <tr>\n",
       "      <th>5</th>\n",
       "      <td>20030219</td>\n",
       "      <td>ambitious olsson wins triple jump</td>\n",
       "    </tr>\n",
       "    <tr>\n",
       "      <th>6</th>\n",
       "      <td>20030219</td>\n",
       "      <td>antic delighted with record breaking barca</td>\n",
       "    </tr>\n",
       "    <tr>\n",
       "      <th>7</th>\n",
       "      <td>20030219</td>\n",
       "      <td>aussie qualifier stosur wastes four memphis match</td>\n",
       "    </tr>\n",
       "    <tr>\n",
       "      <th>8</th>\n",
       "      <td>20030219</td>\n",
       "      <td>aust addresses un security council over iraq</td>\n",
       "    </tr>\n",
       "    <tr>\n",
       "      <th>9</th>\n",
       "      <td>20030219</td>\n",
       "      <td>australia is locked into war timetable opp</td>\n",
       "    </tr>\n",
       "  </tbody>\n",
       "</table>\n",
       "</div>"
      ],
      "text/plain": [
       "   publish_date                                      headline_text\n",
       "0      20030219  aba decides against community broadcasting lic...\n",
       "1      20030219     act fire witnesses must be aware of defamation\n",
       "2      20030219     a g calls for infrastructure protection summit\n",
       "3      20030219           air nz staff in aust strike for pay rise\n",
       "4      20030219      air nz strike to affect australian travellers\n",
       "5      20030219                  ambitious olsson wins triple jump\n",
       "6      20030219         antic delighted with record breaking barca\n",
       "7      20030219  aussie qualifier stosur wastes four memphis match\n",
       "8      20030219       aust addresses un security council over iraq\n",
       "9      20030219         australia is locked into war timetable opp"
      ]
     },
     "execution_count": 4,
     "metadata": {},
     "output_type": "execute_result"
    }
   ],
   "source": [
    "df = pd.read_csv('abcnews-date-text.csv')\n",
    "df.head(10)"
   ]
  },
  {
   "cell_type": "code",
   "execution_count": 5,
   "id": "a491e309",
   "metadata": {},
   "outputs": [],
   "source": [
    "appending2003 = {}\n",
    "i = 0\n",
    "for row in  df['publish_date']:\n",
    "    if '2020' not in str(row):\n",
    "        if '2003' in str(row):\n",
    "            appending2003[row] = df['headline_text'][i]\n",
    "            i = i +  1\n",
    "            \n",
    "appending2020 = {}\n",
    "i = 0\n",
    "for row in  df['publish_date']:\n",
    "    if '2012' not in str(row):\n",
    "        if '2020' in str(row) or '2021' in str(row):\n",
    "            appending2020[row] = df['headline_text'][i]\n",
    "            i = i +  1"
   ]
  },
  {
   "cell_type": "code",
   "execution_count": 6,
   "id": "765bca8f",
   "metadata": {},
   "outputs": [
    {
     "name": "stdout",
     "output_type": "stream",
     "text": [
      "{20200101: 'girl injured in head on highway crash', 20200102: 'patterson no show displays govts arrogance crean', 20200103: 'webb favourite for ladies masters', 20200104: 'drought impact may be more far reaching', 20200105: 'korean books atp date with top seed roddick', 20200106: 'scotland refuse to panic', 20200107: 'christmas island residents not aware of detention', 20200108: 'man u agreed deal with eriksson ferguson', 20200109: 'telstra punished after massive hong kong write down', 20200111: 'clp confident of winning lower house seat', 20200112: 'ntini stars as bangladesh felled for 108', 20200113: 'colombian rebels demand rescuers back off', 20200114: 'tight security to greet cricketers in zimbabwe', 20200115: 'hauritz replaces warne in world cup squad', 20200116: 'safety authority okays qantass use of contract', 20200117: 'condamine river flows at last', 20200118: 'investigation into sydney rail incident', 20200119: 'n korea fires missile into sea of japan', 20200120: 'two truckies killed in horror smash', 20200121: 'dead whale turning visitors away', 20200122: 'protesters halt departure of woodchip shipment', 20200123: 'butterflies facing extinction threat', 20200124: 'police interview woman over car incident', 20200125: 'young pushes for refugee permanent residency', 20200126: 'drought taking toll on nurseries', 20200127: 'move welcomed to settle native title cases away', 20200128: 'tennis on collision course', 20200129: 'iraq begins destruction of banned missiles', 20200130: 'who agrees to international anti smoking treaty', 20200131: 'more rural doctors needed conference told', 20200201: 'aca modifies radiation safety standards', 20200202: 'eu food labels could go 100 hype free', 20200203: 'nz losing the sheep off its back', 20200204: 'catholic male teacher push rejected', 20200205: 'qld govt considering new vehicle registration', 20200206: 'designs changed for renmark entrance wall', 20200207: 'rates on hold', 20200208: 'aba says no to another wollongong community radio', 20200209: 'eleven palestinians killed in gaza raid', 20200210: 'revamped nambour birthing unit opens', 20200211: 'fa dismisses roos friendly plans', 20200212: 'sampras likely to skip indian wells', 20200213: 'nt police call off search for body spotted in', 20200214: 'greens call for tasmanian duck season to be', 20200215: 'nurses union asks govt to detail hospital attacks', 20200216: 'agassi withdraws from indian wells', 20200217: 'knowles opens hospital emergency dept', 20200218: 'alp preference deal disaster waiting to happen', 20200219: 'man due to give evidence over passport refusal', 20200220: 'brogden claims govt doctored hospital data', 20200221: 'more than 200 workers to lose their jobs in bank', 20200222: 'threat of wheat fungus in australia', 20200223: 'britain sets out fresh demands for iraq to disarm', 20200224: 'lpga tour season kicks off in tucson', 20200225: 'amp batchelor dispute may end up in court', 20200226: 'monarch butterflies survive cold winter', 20200227: 'blair welcomes mid east peace roadmap', 20200228: 'sydney roosters kick off season with victory', 20200229: 'igelstrom sets breaststroke short course record', 20200301: 'teenager killed in car accident', 20200302: 'hay facing dental woes', 20200303: 'thomas to undergo shoulder surgery', 20200304: 'fleeing un teams wish iraqis good luck', 20200305: 'three tested for deadly flu virus', 20200306: 'farinas war fears for argentine clash', 20200307: 'nasa balloon launch flops', 20200308: 'two men found guilty of forging a 250000 cheque', 20200309: 'emergency response to fatal crash questioned', 20200310: 'police probe tree vandalism', 20200311: 'coalition goal baghdad inside four days', 20200312: 'predictions indemnity plan to affect health budget', 20200313: 'british bomber pilots awed at baghdad ablaze', 20200314: 'kenya wont expel iraqi diplomats', 20200315: 'spanish authorities release al qaeda suspects', 20200316: 'chechnya set to vote in controversial referendum', 20200317: 'senior rebel leader shot dead in indian kashmir', 20200318: 'french blitz dooms brave italians', 20200319: 'sombre mood in iraq abc cameraman', 20200320: 'finke desert race kings to defend title', 20200321: 'pockets of iraqi resistance expected cosgrove', 20200322: 'wa govt slams call for council funds to fight one', 20200323: 'funds to help boost job prospects', 20200324: 'two brits killed by friendly fire near basra', 20200325: 'hong kong invokes quarantine law to contain deadly', 20200326: 'town supports mine workers union', 20200327: 'heritage building to be demolished for car park', 20200328: 'ralf fastest in barcelona testing', 20200329: 'cameramans body arrives in adelaide', 20200330: 'not enough seniors in cancer drug trials study', 20200331: 'crows thump dockers', 20200401: 'protesters urged not to disrupt anzac services', 20200402: 'call for country doctors boost', 20200403: 'nsw govt grant to boost nimbin', 20200404: 'us general says no access to american pows', 20200405: 'downer meets powell on us tour', 20200406: 'nt police services under scrutiny', 20200407: 'cousins to appeal suspension', 20200408: 'renewed hope for pcyc move', 20200409: 'food vouchers instead of cash legal can of worms', 20200410: 'naples home of the pizza desperately seeking pizza', 20200411: 'turkey opens border to us troop supplies', 20200412: 'butchers sharpen knives for sausage king title', 20200413: 'nats want interstate prosecutor for any new', 20200414: 'waterfall train rocketed to disaster passenger', 20200415: 'national youth week kicks off in tassie', 20200416: 'barrichello takes brazil pole webber third', 20200417: 'turkey expels iraqi diplomats', 20200418: 'firefighters work to control cobar fires', 20200419: 'robson rules out premiership title', 20200420: 'costa sacks two execs in major transport shakeup', 20200421: 'sars fear forces everton to call off china tour', 20200422: 'harvest trail expansion welcomed', 20200423: 'water to remain on agenda despite board dissolving', 20200424: 'men face court after half a million ecstasy', 20200425: 'unemployment in nt rises', 20200426: 'farmers get drought aid', 20200427: 'saddams half brother barzan killed report', 20200428: 'rann hopes to implement economic summit proposals', 20200429: 'malta hungary vote to join eu', 20200430: 'coalition controls all of iraqs oilfields centcom', 20200501: 'sydney teen dies after stabbing', 20200502: 'blair says end of conflict near', 20200503: 'hope for crown leases report to be finalised soon', 20200504: 'vaughan knocks hayden off rankings summit', 20200505: 'minister to launch health initiative', 20200506: 'environment groups call on rio tinto for action', 20200507: 'sydney man charged with 20m fraud', 20200508: 'iraqis claim to have been elected mayor governor', 20200509: 'tas a g pushes for tighter lawyer regulation', 20200510: 'canberra drivers on best behaviour', 20200511: 'police investigate stabbing death on boat', 20200512: 'police find missing baby', 20200513: 'finland tackles oil spill in baltic', 20200514: 'syria egypt leaders discuss iraq us pressure', 20200515: 'million strong crowd cheers ullrichs winning return', 20200516: 'tasmanian tourism boosted by strong easter period', 20200517: 'doctors meet to discuss gp shortage', 20200518: 'travellers snap up final concorde tickets', 20200519: 'market barely budges as working week ends', 20200520: 'board eagerly awaits ec decision', 20200521: 'thousands honour anzac memory in perth', 20200522: 'nsw nightclubs warned about overcrowding', 20200523: 'beachley riding high in fiji', 20200524: 'pakistan awaits evidence of match fixing from icc', 20200525: 'greene sweeps to 200m on martinique', 20200526: 'vic govt clarifies drought aid stance', 20200527: 'palestinian militants reject abbas call to disarm', 20200528: 'heads to roll at pan', 20200529: 'vander kuyp returns to form', 20200530: 'football coach sacked in bali aftermath', 20200531: 'ryan ends evidence in murder trial claiming', 20200601: 'govt appoints new hreoc chief', 20200602: 'england puzzled over world championships', 20200603: 'ferrero rochus to provide appetising final', 20200604: 'copy of barrett cleared of broken ankle', 20200605: 'sea swap navy scheme unlikely to include regional', 20200606: 'contact rule to be put under the microscope', 20200607: 'newcastle development firm to share in nsaf money', 20200608: 'arsenals squad is strong enough wenger', 20200609: 'nsw changes default suburban speed to 50', 20200610: 'doctor rejects allegations of misconduct', 20200611: 'us to comply with wto ruling', 20200612: 'mackay hoping to secure russian trade deal', 20200613: 'workshops to focus on fishing angle', 20200614: 'police arrest man found with 7500 worth of ecstasy', 20200615: 'mantilla faces federer in rome final', 20200616: 'fans throw money as cruzeiro cruise to victory', 20200617: 'cannes comes alive as film festival starts', 20200618: 'underground winery readvertised for sale', 20200619: 'more dead in congo as leaders hold crisis talks', 20200620: 'volunteers could be lost due to rule changes mla', 20200621: 'doctor questions budget health initiatives', 20200622: 'sydney begins to dry out', 20200623: 'japanese business daily chief quits due to scandals', 20200624: 'einsteins writings to be published online', 20200625: 'coria and calleri to contest hamburg final', 20200626: 'conscription proposed for terrorism fight', 20200627: 'new waste facility in use', 20200628: 'tasmanians urged to protest against possible', 20200629: 'fight to save dancing bears reaches melbourne', 20200630: 'us chopper crashes in iraq 4 dead', 20200701: 'man charged over sydney shooting', 20200702: 'baby boomers with free health make mp sick', 20200703: 'parker out for dockers', 20200704: 'beckham injury overshadows england win', 20200705: 'gippsland bushfire victims urged to seek aid', 20200706: 'rossi joins new safety commission', 20200707: 'perth council opposes deregulated trading', 20200708: 'loxton irrigation system upgrade could save', 20200709: 'efforts aim to boost palliative care', 20200710: 'tourism industry future in the spotlight', 20200711: 'cockbain to captain australia a', 20200712: 'mcmanus mcdonald fined', 20200713: 'act to help in bushfire recovery work', 20200714: 'mourners farewell union president', 20200715: 'company director first to face charges from royal', 20200716: 'rivkin gets weekend jail 30000 fine', 20200717: 'five arrested over alleged sex assault', 20200718: 'passengers back in terminal after security scare', 20200719: 'alice springs clinic criticised for fee policy', 20200720: 'teenager charged over stabbing', 20200721: 'non vics leading afl ladder', 20200722: 'ex players call for waughs retirement', 20200723: 'suu kyi taken to rangoon aust demands release', 20200724: 'group highlights high alcohol content sales', 20200725: 'rivkin makes last ditch appeal to avoid jail', 20200726: 'and jesus said to his people you boofheads', 20200727: 'judge considers elliott penalty', 20200728: 'ancient crafts showed at latest exhibition', 20200729: 'origin hope for jilted anasta', 20200730: 'dekker pulls out of tour de france', 20200731: 'toddlers remains exhumed in police probe', 20200801: 'indian youngsters training at australian academy', 20200802: 'sth korea and japan call for peaceful nuclear', 20200803: 'new zealand retain world sevens crown', 20200804: 'ferrero crowned king of france', 20200805: 'sorenstam wins lpga championship for fifth major', 20200806: 'frontbenchers to back beazley tomorrow', 20200807: 'tsvangirai in custody until july', 20200808: 'filmmakers not willing to censor smoking', 20200809: 'more hydrotherapy pool talks planned', 20200810: 'canberra residents show vision for transport', 20200811: 'relaxed schumacher ready to race in canada', 20200812: 'high hopes for continued aquaculture growth', 20200813: 'water corp considers drilling', 20200814: 'australia drop flatley for disciplinary reasons', 20200815: 'us call for iraqi arms ignored report', 20200816: 'dispute over hospitals actions on public holiday', 20200817: 'sapphires lose to czech republic', 20200818: 'forum to focus on advocacy services', 20200819: 'academic speaks out on grosse case', 20200820: 'police commissioner concerned over high speed car', 20200821: 'curfew enforced after us riots', 20200822: 'origin add', 20200823: 'advocates appalled at ruddock refugee comments', 20200824: 'mauresmo withdraws from wimbledon', 20200825: 'carlisle out of triangular series', 20200826: '2 dead in explosion at somali warlords palace', 20200827: 'amp cuts 900 uk jobs', 20200828: 'port may be needed to cope with new ferry', 20200829: '840000 for manhole fall', 20200830: 'govt denies troops will have pay docked', 20200831: 'tourist jailed after fabricating thai gang rape', 20200901: 'henin hardenne standing tall despite injury', 20200902: 'alston says senate put a dagger in media ownership', 20200903: 'port kennedy foreshore project back on track wa', 20200904: 'commercial concerns about no fishing zones', 20200905: 'labor refers visa scandal to police', 20200906: 'three injured in gas blast', 20200907: 'residents angry over cwa plan', 20200908: 'sa govt urged to subsidise immobilisers', 20200909: 'kallis century sets up south africa victory', 20200910: 'cancer is in remission says boycott', 20200911: 'popp calls the tune to book scud clash', 20200912: 'ama welcomes results of dairy study', 20200913: 'life bans for brawling player family', 20200914: 'berlusconi nazi jibe sparks eu uproar', 20200915: 'shires seek federal drought aid', 20200916: 'govt motives questioned over asylum seekers', 20200917: 'vic govt still considering weir upgrade', 20200918: 'turks escape with fine for euro 2004 trouble', 20200919: 'pri announces growing concerns over property rights', 20200920: 'canberra to host aust day awards', 20200921: 'police probe beach body find', 20200922: 'eels re sign widders', 20200923: 'twins operation enters third day', 20200924: 'news not good for shepherds unsecured creditors', 20200925: 'condoms should be available in schools says doctor', 20200926: 'new trial for accused cocaine importers', 20200927: 'top players split over british open lead up courses', 20200928: 'federer finally cracks swiss open quarter finals', 20200929: 'sharon to visit us this month official', 20200930: 'police investigate alleged stabbing in sydney', 20201001: 'lions edge out hawks', 20201002: 'canegrowers welcome questioning of eu sugar', 20201003: 'nats welcome familys move to take over pie maker', 20201004: 'ugandan soldiers rescue kidnapped children', 20201005: 'fletcher to make 10th tribunal appearance', 20201006: 'tuckey backs calls for national parks freeze', 20201007: 'hurricane causes havoc on texas coast', 20201008: 'alston questions abcs lack of response', 20201009: 'man to face attempted murder charge', 20201010: 'solomons force should also end dolphin cruelty', 20201011: 'credit card skimming costing banks millions', 20201012: 'rubin runs to us rescue in fed cup', 20201013: 'nsw rail employees face tougher medicals', 20201014: 'mp rejects suggestion us would let hicks return', 20201015: 'iran nuclear program threatens entire world', 20201016: 'virenque set for sixth king of the mountains crown', 20201017: 'gbrmpa rejects boaties fishers claims', 20201018: 'snyman the scapegoat as struggling boks pick two', 20201019: 'drug report findings disturbing', 20201020: 'sorenstam to defend evian masters title', 20201021: 'flinders re enactment ship arrives in sydney', 20201022: 'us stocks open higher on jobless claims figure', 20201023: 'leicestershire cancel sehwag contract', 20201024: 'south east vic rain outlook improving', 20201025: 'fighting intensifies in liberia report', 20201026: 'anger as mugabe stays in control of zimbabwe', 20201027: 'telstra denies planning 000 surcharge', 20201028: 'macgill not just shanes stand in waugh', 20201029: 'catchment boards meet over green funds', 20201030: 'pierce powers through in san diego serena pulls out', 20201031: 'aust troops to be thanked at service', 20201101: 'housing becoming less affordable', 20201102: 'act to push for increase in aged funding', 20201103: 'mixed results for company profit reports', 20201104: 'call for nt feral cat bounty', 20201105: 'plans for public liability seminar', 20201106: 'hewitt battles through to semi finals in la', 20201107: 'woman charged with alleged assault of taxi driver', 20201108: 'seven rebels one soldier the latest casualties in', 20201109: 'identity of human remains still a mystery', 20201110: '4 italians and 3 germans die in namibia road', 20201111: 'nrm council alarmed at new resource management bill', 20201112: 'broken hill welcomes fed govt film support', 20201113: 'pay offer to teachers insulting says opposition', 20201114: 'athletes given world champs selection extension', 20201115: 'injured rubin unable to defend la title', 20201116: 'wa govt talks up emergency services levy', 20201117: 'market climbs as amp recovers ground', 20201118: 'gronholm out in finland', 20201119: 'protesters call for coffs harbour bypass', 20201120: 'endorsements threaten acccs independence alp', 20201121: 'mp airs school test concerns', 20201122: 'vic govt urged to boost thomson river flows', 20201123: 'internet service gets thumbs down', 20201124: 'alfa romeo celebrates classic win', 20201125: 'murder victims mother backs death penalty', 20201126: 'calls to ban sale of dog cat fur in nt', 20201127: 'russia name strong squad for worlds', 20201128: 'apec security under review after hambali arrest', 20201129: 'govt refuses bali victims lump sum payment', 20201130: 'world poll names isaac newton greatest briton'}\n"
     ]
    }
   ],
   "source": [
    "print(appending2020)"
   ]
  },
  {
   "cell_type": "code",
   "execution_count": 7,
   "id": "5d5909ba",
   "metadata": {},
   "outputs": [],
   "source": [
    "df2003 = pd.pandas.DataFrame.from_dict(appending2003,orient='index',columns=['headline_text'])\n",
    "series2003 = df2003['headline_text'].to_list() \n",
    "df2020 = pd.pandas.DataFrame.from_dict(appending2020,orient='index',columns=['headline_text'])\n",
    "series2020 = df2020['headline_text'].to_list() "
   ]
  },
  {
   "cell_type": "code",
   "execution_count": 8,
   "id": "5fca5d69",
   "metadata": {},
   "outputs": [],
   "source": [
    "def sent_to_words(sentences):\n",
    "    for sentence in sentences:\n",
    "        yield(gensim.utils.simple_preprocess(str(sentence), deacc=True))  # deacc=True removes punctuations\n",
    "\n",
    "words2003 = list(sent_to_words(series2003))\n",
    "words2020 = list(sent_to_words(series2020))\n"
   ]
  },
  {
   "cell_type": "code",
   "execution_count": 9,
   "id": "3dc8c5d9",
   "metadata": {},
   "outputs": [],
   "source": [
    "# Build the bigram and trigram machines\n",
    "bigram2003 = gensim.models.Phrases(words2003, min_count=3, threshold=50) # higher threshold fewer phrases.\n",
    "trigram2003 = gensim.models.Phrases(bigram2003[words2003], threshold=50)  \n",
    "\n",
    "# Build the bigram and trigram machines\n",
    "bigram2020 = gensim.models.Phrases(words2020, min_count=3, threshold=50) # higher threshold fewer phrases.\n",
    "trigram2020 = gensim.models.Phrases(bigram2020[words2020], threshold=50)\n",
    "\n",
    "#da manuale\n",
    "\n",
    "def ngram_mod(generator):\n",
    "    return gensim.models.phrases.Phraser(generator)\n",
    "    \n",
    "\n"
   ]
  },
  {
   "cell_type": "code",
   "execution_count": 10,
   "id": "6c418bfa",
   "metadata": {},
   "outputs": [],
   "source": [
    "# Define functions for stopwords, bigrams, trigrams and lemmatization\n",
    "def remove_stopwords(texts):\n",
    "    return [[word for word in simple_preprocess(str(doc)) if word not in stop_words] for doc in texts] #remove the stopwords\n",
    " \n",
    "    \n",
    "    \n",
    "    \n",
    "def make_bigrams2003(texts):\n",
    "    '''create bigrams for each document in corpus'''\n",
    "    return [ngram_mod(bigram2003)[doc] for doc in texts] \n",
    "\n",
    "def make_trigrams2003(texts):\n",
    "    \"\"\"create trigrams for each document in corpus based on the bigrams\"\"\"\n",
    "    return [ngram_mod(trigram2003)[ngram_mod(bigram2003)[doc]] for doc in texts]\n",
    "\n",
    "def make_bigrams2020(texts):\n",
    "    '''create bigrams for each document in corpus'''\n",
    "    return [ngram_mod(bigram2020)[doc] for doc in texts] \n",
    "\n",
    "def make_trigrams(texts):\n",
    "    \"\"\"create trigrams for each document in corpus based on the bigrams\"\"\"\n",
    "    return [ngram_mod(trigram2020)[ngram_mod(bigram2020)[doc]] for doc in texts]\n",
    "\n",
    "\n",
    "#python -m spacy download en_core_web_sm since en does not word anymore\n",
    "nlp = spacy.load('en_core_web_sm', disable=['parser', 'ner'])\n",
    "\n",
    "def lemmatization(texts, allowed_postags=['NOUN', 'ADJ', 'VERB', 'ADV']):\n",
    "    texts_out = []\n",
    "    for sent in texts:\n",
    "        doc = nlp(\" \".join(sent)) \n",
    "        texts_out.append([token.lemma_ for token in doc if token.pos_ in allowed_postags])\n",
    "    return texts_out"
   ]
  },
  {
   "cell_type": "code",
   "execution_count": 11,
   "id": "d07d82e2",
   "metadata": {},
   "outputs": [],
   "source": [
    "words_stoprem2003 = remove_stopwords(words2003)\n",
    "gram2_2003 = make_bigrams2003(words_stoprem2003)\n",
    "\n",
    "words_stoprem2020 = remove_stopwords(words2020)\n",
    "gram2_2020 = make_bigrams2020(words_stoprem2020)\n",
    "\n",
    "#define tags and lemmatize\n",
    "data_lemmatized2003 = lemmatization(gram2_2003, allowed_postags=['NOUN', 'ADJ', 'VERB', 'ADV'])\n",
    "data_lemmatized2020 = lemmatization(gram2_2020, allowed_postags=['NOUN', 'ADJ', 'VERB', 'ADV'])\n"
   ]
  },
  {
   "cell_type": "code",
   "execution_count": 12,
   "id": "1aee1a6a",
   "metadata": {},
   "outputs": [],
   "source": [
    "# Create Dictionary with the training data\n",
    "i2w2003 = corpora.Dictionary(data_lemmatized2003)\n",
    "\n",
    "# Create Corpus with the training data\n",
    "texts2003 = data_lemmatized2003\n",
    "\n",
    "# TDF of the train data\n",
    "corpus2003 = [i2w2003.doc2bow(text) for text in texts2003]\n"
   ]
  },
  {
   "cell_type": "code",
   "execution_count": 13,
   "id": "c45586e1",
   "metadata": {},
   "outputs": [],
   "source": [
    "# Create Dictionary with the training data\n",
    "i2w2020 = corpora.Dictionary(data_lemmatized2020)\n",
    "\n",
    "# Create Corpus with the training data\n",
    "texts2020 = data_lemmatized2020\n",
    "\n",
    "# TDF of the train data\n",
    "corpus2020 = [i2w2020.doc2bow(text) for text in texts2020]"
   ]
  },
  {
   "cell_type": "code",
   "execution_count": 14,
   "id": "c520f2ca",
   "metadata": {},
   "outputs": [
    {
     "name": "stderr",
     "output_type": "stream",
     "text": [
      "100%|██████████████████████████████████████████████████████████████████████████████████| 14/14 [00:26<00:00,  1.86s/it]\n"
     ]
    }
   ],
   "source": [
    "from gensim.models import ldamulticore\n",
    "num_topics = list(range(1,15 )) #for test reasons we will have it up to 3 topiucs --> originally it is up to 16\n",
    "num_keywords = 14 #change back to 15\n",
    "i = 1\n",
    "LDA_models2003 = {}\n",
    "LDA_topics2003 = {}\n",
    "\n",
    "for i in t.tqdm(num_topics):\n",
    "    LDA_models2003[i] = ldamulticore.LdaMulticore(workers=3,corpus=corpus2003,\n",
    "                             id2word=i2w2003,\n",
    "                             num_topics=i,\n",
    "                             chunksize=100,\n",
    "                             passes=20,\n",
    "                             random_state=42)\n",
    "    \n",
    "\n",
    "    shown_topics2003 = LDA_models2003[i].show_topics(num_topics=i, \n",
    "                                             num_words=num_keywords,\n",
    "                                             formatted=False)\n",
    "    LDA_topics2003[i] = [[word[0] for word in topic[1]] for topic in shown_topics2003]"
   ]
  },
  {
   "cell_type": "code",
   "execution_count": 15,
   "id": "81c8d90a",
   "metadata": {},
   "outputs": [
    {
     "name": "stderr",
     "output_type": "stream",
     "text": [
      "100%|██████████████████████████████████████████████████████████████████████████████████| 14/14 [00:30<00:00,  2.20s/it]\n"
     ]
    }
   ],
   "source": [
    "from gensim.models import ldamulticore\n",
    "num_topics = list(range(1,15 )) #for test reasons we will have it up to 3 topiucs --> originally it is up to 16\n",
    "num_keywords = 14 #change back to 15\n",
    "i = 1\n",
    "LDA_models2020 = {}\n",
    "LDA_topics2020 = {}\n",
    "perplexity_tot_test = {}\n",
    "for i in t.tqdm(num_topics):\n",
    "    LDA_models2020[i] = ldamulticore.LdaMulticore(workers=3,corpus=corpus2020,\n",
    "                             id2word=i2w2020,\n",
    "                             num_topics=i,\n",
    "                             chunksize=100,\n",
    "                             passes=20,\n",
    "                             random_state=42)\n",
    "    \n",
    "\n",
    "    shown_topics2020 = LDA_models2020[i].show_topics(num_topics=i, \n",
    "                                             num_words=num_keywords,\n",
    "                                             formatted=False)\n",
    "    LDA_topics2020[i] = [[word[0] for word in topic[1]] for topic in shown_topics2020]"
   ]
  },
  {
   "cell_type": "code",
   "execution_count": 16,
   "id": "f00626d0",
   "metadata": {},
   "outputs": [
    {
     "name": "stderr",
     "output_type": "stream",
     "text": [
      "100%|██████████████████████████████████████████████████████████████████████████████████| 13/13 [00:25<00:00,  1.92s/it]\n"
     ]
    }
   ],
   "source": [
    "coherences2003 = [CoherenceModel(model=LDA_models2003[i], texts=data_lemmatized2003, dictionary=i2w2003, coherence='c_v').get_coherence()\\\n",
    "              for i in t.tqdm(num_topics[:-1])]"
   ]
  },
  {
   "cell_type": "code",
   "execution_count": 17,
   "id": "05a533a3",
   "metadata": {},
   "outputs": [
    {
     "name": "stderr",
     "output_type": "stream",
     "text": [
      "100%|██████████████████████████████████████████████████████████████████████████████████| 13/13 [00:23<00:00,  1.81s/it]\n"
     ]
    }
   ],
   "source": [
    "coherences2020 = [CoherenceModel(model=LDA_models2020[i], texts=data_lemmatized2020, dictionary=i2w2020, coherence='c_v').get_coherence()\\\n",
    "              for i in t.tqdm(num_topics[:-1])]"
   ]
  },
  {
   "cell_type": "code",
   "execution_count": 18,
   "id": "d0c914a7",
   "metadata": {},
   "outputs": [
    {
     "name": "stdout",
     "output_type": "stream",
     "text": [
      "[0.6961513333734143, 0.630069150231438, 0.6714639880385249, 0.6563790504893541, 0.5717494561740015, 0.5651583172128442, 0.5842999395446568, 0.5755566365310795, 0.6000705824106481, 0.600158790879937, 0.5761347902647581, 0.5438324032441496, 0.5561545513524043] [0.7912036878996378, 0.7397175928725891, 0.6992376231616338, 0.6103027691300482, 0.5904108908678196, 0.6145917366625274, 0.5032729500911427, 0.5104224902833805, 0.5712993862404718, 0.5127669822476694, 0.4769271829689768, 0.4978319864647602, 0.4903797806937803]\n"
     ]
    }
   ],
   "source": [
    "print(coherences2003,coherences2020)"
   ]
  },
  {
   "cell_type": "code",
   "execution_count": 19,
   "id": "81dc8700",
   "metadata": {},
   "outputs": [
    {
     "data": {
      "text/html": [
       "\n",
       "<link rel=\"stylesheet\" type=\"text/css\" href=\"https://cdn.jsdelivr.net/gh/bmabey/pyLDAvis@3.3.1/pyLDAvis/js/ldavis.v1.0.0.css\">\n",
       "\n",
       "\n",
       "<div id=\"ldavis_el168082603777469904188128810\"></div>\n",
       "<script type=\"text/javascript\">\n",
       "\n",
       "var ldavis_el168082603777469904188128810_data = {\"mdsDat\": {\"x\": [-0.11731546692412087, 0.06252761320445684, 0.05478785371966404], \"y\": [-0.004252470517880848, -0.09455904908997276, 0.0988115196078536], \"topics\": [1, 2, 3], \"cluster\": [1, 1, 1], \"Freq\": [41.58355283442157, 30.960502073843394, 27.455945091735046]}, \"tinfo\": {\"Term\": [\"zimbabwe\", \"face\", \"zim\", \"new\", \"world\", \"youth\", \"zoo\", \"murder\", \"rule\", \"take\", \"front\", \"opposition\", \"woman\", \"arrest\", \"play\", \"wood\", \"set\", \"police\", \"skandia\", \"grundig\", \"zana\", \"streaker\", \"end\", \"newspaper\", \"politically\", \"tell\", \"prepare\", \"perth\", \"waugh\", \"favour\", \"opposition\", \"arrest\", \"police\", \"end\", \"zimbabwes\", \"australian\", \"car\", \"mugabe\", \"rally\", \"zidane\", \"party\", \"player\", \"faithful\", \"suspect\", \"alice\", \"house\", \"refuge\", \"recognise\", \"department\", \"leaver\", \"triangular\", \"arrive\", \"flight\", \"splash\", \"wright\", \"brother\", \"fifa\", \"time\", \"plan\", \"crash\", \"zimbabwe\", \"youth\", \"leader\", \"woman\", \"year\", \"third\", \"worker\", \"challenge\", \"world\", \"young\", \"new\", \"murder\", \"rule\", \"play\", \"politically\", \"tell\", \"prepare\", \"perth\", \"waugh\", \"favour\", \"photo\", \"family\", \"motivated\", \"funding\", \"interim\", \"ebola\", \"powerful\", \"team\", \"outbreak\", \"step\", \"possible\", \"secure\", \"eve\", \"cupid\", \"lovelorn\", \"tiger\", \"death\", \"newspaper\", \"warn\", \"woomera\", \"zoo\", \"medium\", \"court\", \"zimbabwe\", \"young\", \"woman\", \"pakistan\", \"year\", \"work\", \"get\", \"challenge\", \"school\", \"face\", \"zim\", \"take\", \"front\", \"wood\", \"skandia\", \"grundig\", \"zana\", \"streaker\", \"set\", \"wool\", \"opening\", \"club\", \"victory\", \"side\", \"wale\", \"show\", \"return\", \"old\", \"safe\", \"vermeulen\", \"pick\", \"semi\", \"wall\", \"write\", \"graffiti\", \"overall\", \"sprint\", \"gather\", \"converge\", \"world\", \"lead\", \"test\", \"seek\", \"win\", \"man\", \"price\", \"youth\", \"court\", \"claim\", \"young\", \"worker\", \"adelaide\", \"yemeni\", \"save\", \"leave\"], \"Freq\": [43.0, 6.0, 4.0, 5.0, 9.0, 18.0, 7.0, 4.0, 4.0, 3.0, 3.0, 6.0, 13.0, 6.0, 3.0, 3.0, 3.0, 5.0, 3.0, 3.0, 3.0, 3.0, 5.0, 4.0, 3.0, 3.0, 3.0, 3.0, 3.0, 3.0, 5.607897391008853, 5.591294988045228, 5.054434206959049, 5.012585156928632, 4.604920000724819, 3.9272790730731266, 3.5287544518194873, 3.527924331671306, 3.400879402829529, 3.8825299769608477, 3.389212268375439, 3.3858300585375103, 2.8491661353925015, 2.84908260128954, 2.849075230633396, 2.8490721595266697, 2.8490641746491807, 2.8490414484594044, 2.849040834238059, 2.8490359204672964, 2.848894649557876, 2.848875915806844, 2.8487100760436115, 2.848699941391414, 2.848668001881458, 2.8486526463478254, 2.8484536386319466, 2.848426612892753, 4.212936529688018, 2.425076853970539, 31.00271430137079, 12.413649249633746, 4.609384468573177, 8.533660920599775, 5.693505719453587, 3.2905627923271643, 3.951614829884829, 3.874566290108281, 3.4417579831343614, 2.9674141861268044, 5.021322065786559, 4.0492076882935235, 4.038821248996899, 3.531017338645412, 3.0586771825997694, 3.05862916498238, 3.050645664453108, 3.048178244885261, 3.0443007079534152, 3.039266403753129, 3.0257896877945214, 2.5624704414690807, 2.562467240294588, 2.5624125916728926, 2.5624123630175717, 2.562409619153721, 2.562407332600512, 2.5624061893239074, 2.562402759494094, 2.562400015630243, 2.562400244285564, 2.5623940705918997, 2.562268767476046, 2.5622603072291725, 2.562255962778075, 2.562256191433396, 2.177700471566934, 3.62750942675516, 1.6849149856752326, 1.6845310733914391, 5.955133018543475, 2.5826666513430174, 4.989864581358228, 12.014093845201858, 4.202147458163558, 4.623465923213905, 3.0150106473119087, 3.8591571598411933, 2.854124419074589, 2.70659417678644, 2.7087030648111137, 2.577415124587875, 5.930469542951619, 4.487193529059576, 3.4183330437202053, 3.2792901072472036, 2.884823795143429, 2.7606767519023028, 2.7606698576268385, 2.7606655993978753, 2.7604993256955006, 2.8596456983749556, 1.8156027797518357, 1.811013220020682, 1.805299690616038, 1.7059906941447482, 1.2810114340863739, 1.2810105216087389, 1.2809786862779184, 1.2809787876643224, 1.2809166377987395, 1.280913596206623, 1.2809009229061372, 1.2808977799276167, 1.2808959549723467, 1.2808147444628333, 1.2808146430764293, 1.2808141361444099, 1.2808153527812567, 1.2808107903930817, 1.2806990625759982, 1.2806153174063877, 5.627711491392538, 2.239552663651546, 1.8487885774721067, 1.8479991829314428, 2.8325986446372307, 1.846526646801389, 1.836392467414467, 5.443163903581388, 3.1785951586347796, 1.8552391860330089, 2.1986552132788275, 1.822336661925198, 1.3267080098870805, 1.3049005041158286, 1.302708631450197, 1.3032301631117913], \"Total\": [43.0, 6.0, 4.0, 5.0, 9.0, 18.0, 7.0, 4.0, 4.0, 3.0, 3.0, 6.0, 13.0, 6.0, 3.0, 3.0, 3.0, 5.0, 3.0, 3.0, 3.0, 3.0, 5.0, 4.0, 3.0, 3.0, 3.0, 3.0, 3.0, 3.0, 6.017704135727686, 6.016288660482835, 5.4657377516485575, 5.4634735908885785, 5.040876116991705, 4.361487775171248, 3.9388311452526525, 3.938747850042615, 3.8105290048146894, 4.360040053491625, 3.809343353803232, 3.809985007604482, 3.2587406022218324, 3.2587344574945094, 3.258734814157518, 3.258734476722391, 3.258734406177157, 3.258730206933745, 3.2587298326417176, 3.2587298325884317, 3.258719540567312, 3.2587182434914412, 3.258722920256483, 3.2587228301426876, 3.2587212182675795, 3.2587209807408524, 3.2586697186828903, 3.2586668419526443, 4.903445011982797, 2.8352238511934584, 43.2310234238892, 18.492098178516002, 5.986578044510187, 13.375610311307659, 9.765481710977388, 4.815265640603915, 8.066893559145303, 7.7836510208137994, 9.281359444316823, 9.36821685756919, 5.477058968452487, 4.48297674451261, 4.484196004002498, 3.9891879215857866, 3.4903059972872823, 3.490309848318444, 3.4911799040270743, 3.4910998949909726, 3.491869148979003, 3.492463429255629, 3.492819405524712, 2.9940434218618677, 2.994043253325279, 2.994047189821915, 2.9940471474769463, 2.994047929414088, 2.994047806713928, 2.9940481038569198, 2.9940486622680798, 2.9940480051013796, 2.994048777691732, 2.9940491028974296, 2.9940589050345054, 2.9940645246173867, 2.9940646722582303, 2.9940649580881873, 2.613514420068889, 4.53002504596, 2.1169686557143867, 2.116997287971997, 7.5795428904861275, 3.656068003964136, 10.223877151277232, 43.2310234238892, 9.36821685756919, 13.375610311307659, 4.72671550461054, 9.765481710977388, 5.277551052236217, 4.209677510707402, 7.7836510208137994, 5.622921223430475, 6.382715679441408, 4.905171141243441, 3.836029418521593, 3.710474996755453, 3.3013473935967887, 3.1769968998594127, 3.1769962835391716, 3.17699589522376, 3.1769892904805133, 3.3011557134667475, 2.2320563264267705, 2.232201410933385, 2.2313172496011084, 2.2348397553880495, 1.6974107436440709, 1.6974105800385302, 1.6974097586537886, 1.6974100274057715, 1.6974082827690278, 1.6974066960272176, 1.6974058555852976, 1.6974065252339101, 1.6974081093493032, 1.6974029324973001, 1.697403001763545, 1.697402928593303, 1.6974110310961292, 1.697410890165255, 1.6974107797614708, 1.6973956822708085, 9.281359444316823, 3.321456908649634, 2.730721766609511, 2.7307313593498366, 4.789090609810595, 2.730486042290316, 2.7297457341094145, 18.492098178516002, 10.223877151277232, 5.317900901971741, 9.36821685756919, 8.066893559145303, 2.247530521224159, 2.1953666938986736, 2.1958920724157984, 2.248317678976514], \"Category\": [\"Default\", \"Default\", \"Default\", \"Default\", \"Default\", \"Default\", \"Default\", \"Default\", \"Default\", \"Default\", \"Default\", \"Default\", \"Default\", \"Default\", \"Default\", \"Default\", \"Default\", \"Default\", \"Default\", \"Default\", \"Default\", \"Default\", \"Default\", \"Default\", \"Default\", \"Default\", \"Default\", \"Default\", \"Default\", \"Default\", \"Topic1\", \"Topic1\", \"Topic1\", \"Topic1\", \"Topic1\", \"Topic1\", \"Topic1\", \"Topic1\", \"Topic1\", \"Topic1\", \"Topic1\", \"Topic1\", \"Topic1\", \"Topic1\", \"Topic1\", \"Topic1\", \"Topic1\", \"Topic1\", \"Topic1\", \"Topic1\", \"Topic1\", \"Topic1\", \"Topic1\", \"Topic1\", \"Topic1\", \"Topic1\", \"Topic1\", \"Topic1\", \"Topic1\", \"Topic1\", \"Topic1\", \"Topic1\", \"Topic1\", \"Topic1\", \"Topic1\", \"Topic1\", \"Topic1\", \"Topic1\", \"Topic1\", \"Topic1\", \"Topic2\", \"Topic2\", \"Topic2\", \"Topic2\", \"Topic2\", \"Topic2\", \"Topic2\", \"Topic2\", \"Topic2\", \"Topic2\", \"Topic2\", \"Topic2\", \"Topic2\", \"Topic2\", \"Topic2\", \"Topic2\", \"Topic2\", \"Topic2\", \"Topic2\", \"Topic2\", \"Topic2\", \"Topic2\", \"Topic2\", \"Topic2\", \"Topic2\", \"Topic2\", \"Topic2\", \"Topic2\", \"Topic2\", \"Topic2\", \"Topic2\", \"Topic2\", \"Topic2\", \"Topic2\", \"Topic2\", \"Topic2\", \"Topic2\", \"Topic2\", \"Topic2\", \"Topic2\", \"Topic2\", \"Topic2\", \"Topic3\", \"Topic3\", \"Topic3\", \"Topic3\", \"Topic3\", \"Topic3\", \"Topic3\", \"Topic3\", \"Topic3\", \"Topic3\", \"Topic3\", \"Topic3\", \"Topic3\", \"Topic3\", \"Topic3\", \"Topic3\", \"Topic3\", \"Topic3\", \"Topic3\", \"Topic3\", \"Topic3\", \"Topic3\", \"Topic3\", \"Topic3\", \"Topic3\", \"Topic3\", \"Topic3\", \"Topic3\", \"Topic3\", \"Topic3\", \"Topic3\", \"Topic3\", \"Topic3\", \"Topic3\", \"Topic3\", \"Topic3\", \"Topic3\", \"Topic3\", \"Topic3\", \"Topic3\", \"Topic3\", \"Topic3\", \"Topic3\", \"Topic3\", \"Topic3\", \"Topic3\"], \"logprob\": [30.0, 29.0, 28.0, 27.0, 26.0, 25.0, 24.0, 23.0, 22.0, 21.0, 20.0, 19.0, 18.0, 17.0, 16.0, 15.0, 14.0, 13.0, 12.0, 11.0, 10.0, 9.0, 8.0, 7.0, 6.0, 5.0, 4.0, 3.0, 2.0, 1.0, -4.7673, -4.7703, -4.8712, -4.8796, -4.9644, -5.1236, -5.2306, -5.2308, -5.2675, -5.135, -5.2709, -5.2719, -5.4445, -5.4445, -5.4445, -5.4445, -5.4445, -5.4445, -5.4445, -5.4445, -5.4446, -5.4446, -5.4446, -5.4446, -5.4447, -5.4447, -5.4447, -5.4447, -5.0533, -5.6056, -3.0574, -3.9727, -4.9634, -4.3475, -4.7522, -5.3004, -5.1174, -5.1371, -5.2555, -5.4038, -4.5828, -4.798, -4.8006, -4.9349, -5.0785, -5.0785, -5.0812, -5.082, -5.0832, -5.0849, -5.0893, -5.2555, -5.2555, -5.2556, -5.2556, -5.2556, -5.2556, -5.2556, -5.2556, -5.2556, -5.2556, -5.2556, -5.2556, -5.2556, -5.2556, -5.2556, -5.4182, -4.908, -5.6748, -5.675, -4.4123, -5.2477, -4.5891, -3.7104, -4.7609, -4.6654, -5.0929, -4.8461, -5.1477, -5.2008, -5.2, -5.2497, -4.2963, -4.5752, -4.8472, -4.8888, -5.0169, -5.0609, -5.0609, -5.0609, -5.061, -5.0257, -5.48, -5.4825, -5.4857, -5.5422, -5.8287, -5.8287, -5.8288, -5.8288, -5.8288, -5.8288, -5.8288, -5.8288, -5.8288, -5.8289, -5.8289, -5.8289, -5.8289, -5.8289, -5.829, -5.829, -4.3487, -5.2701, -5.4619, -5.4623, -5.0352, -5.4631, -5.4686, -4.382, -4.9199, -5.4584, -5.2885, -5.4763, -5.7937, -5.8103, -5.8119, -5.8115], \"loglift\": [30.0, 29.0, 28.0, 27.0, 26.0, 25.0, 24.0, 23.0, 22.0, 21.0, 20.0, 19.0, 18.0, 17.0, 16.0, 15.0, 14.0, 13.0, 12.0, 11.0, 10.0, 9.0, 8.0, 7.0, 6.0, 5.0, 4.0, 3.0, 2.0, 1.0, 0.8069, 0.8042, 0.7992, 0.7913, 0.787, 0.7726, 0.7675, 0.7673, 0.7637, 0.7615, 0.7606, 0.7594, 0.7432, 0.7431, 0.7431, 0.7431, 0.7431, 0.7431, 0.7431, 0.7431, 0.7431, 0.7431, 0.743, 0.743, 0.743, 0.743, 0.7429, 0.7429, 0.7257, 0.7212, 0.545, 0.4789, 0.616, 0.4281, 0.3379, 0.4967, 0.1638, 0.1799, -0.1146, -0.2722, 1.0856, 1.0707, 1.0679, 1.0505, 1.0405, 1.0404, 1.0376, 1.0368, 1.0353, 1.0335, 1.0289, 1.0168, 1.0168, 1.0168, 1.0168, 1.0168, 1.0168, 1.0168, 1.0168, 1.0168, 1.0168, 1.0168, 1.0167, 1.0167, 1.0167, 1.0167, 0.99, 0.9503, 0.9442, 0.9439, 0.9313, 0.8249, 0.4551, -0.108, 0.3707, 0.1102, 0.7228, 0.2441, 0.5578, 0.7308, 0.1169, 0.3924, 1.2191, 1.2035, 1.1773, 1.1691, 1.1577, 1.1521, 1.1521, 1.1521, 1.1521, 1.149, 1.0861, 1.0835, 1.0807, 1.0226, 1.0111, 1.0111, 1.0111, 1.0111, 1.0111, 1.0111, 1.0111, 1.011, 1.011, 1.011, 1.011, 1.011, 1.011, 1.011, 1.0109, 1.0108, 0.7923, 0.8985, 0.9026, 0.9021, 0.7674, 0.9014, 0.8962, 0.0696, 0.1243, 0.2395, -0.1569, -0.1951, 0.7655, 0.7724, 0.7704, 0.7473]}, \"token.table\": {\"Topic\": [1, 3, 1, 1, 1, 1, 1, 1, 1, 2, 3, 1, 2, 3, 3, 3, 1, 2, 3, 1, 2, 2, 1, 2, 1, 2, 3, 1, 2, 2, 1, 1, 3, 2, 3, 1, 2, 3, 3, 1, 2, 1, 3, 1, 3, 1, 3, 1, 2, 2, 3, 2, 3, 2, 1, 2, 2, 1, 2, 3, 3, 1, 2, 3, 1, 2, 1, 2, 2, 3, 1, 2, 1, 1, 2, 2, 2, 2, 2, 3, 1, 1, 1, 3, 2, 3, 2, 3, 1, 2, 2, 2, 3, 3, 3, 3, 3, 3, 1, 3, 2, 3, 1, 3, 2, 2, 2, 3, 1, 2, 3, 2, 1, 1, 3, 3, 3, 3, 2, 2, 2, 3, 1, 2, 3, 3, 2, 1, 2, 3, 1, 2, 3, 1, 3, 1, 3, 1, 2, 2, 3, 1, 2, 3, 1, 2, 3, 3, 1, 3, 1, 2, 1, 1, 2], \"Freq\": [0.44493277869051207, 0.44493277869051207, 0.9206026789803672, 0.9972925733118784, 0.9206073602686661, 0.9171182418006307, 0.920606586980014, 1.0155296971339003, 0.5138976541090855, 0.3854232405818141, 0.12847441352727137, 0.18804412087281014, 0.3760882417456203, 0.3760882417456203, 0.8963315280951372, 0.5891378247540849, 0.19562050388586166, 0.48905125971465413, 0.29343075582879247, 0.7054116729295009, 1.0019824139840046, 0.7652530954649497, 0.9206040862761624, 1.001987967703335, 0.9151686956698185, 1.0019842946160828, 0.9400387392040465, 0.920601043837174, 1.001989476202863, 0.8589925308507551, 0.9206210690209374, 0.9206060390565148, 0.8085218206896118, 1.0019882152152848, 0.589132584712656, 0.2375478875653727, 0.7126436626961181, 0.589135309686743, 0.9442881678973832, 0.9206027743068457, 1.0019882293864577, 0.3010727001743817, 0.6021454003487634, 0.8352016732806317, 0.16704033465612633, 0.4447770034238325, 0.4447770034238325, 0.9206040862912158, 1.0019823645750754, 0.36623516271894424, 0.7324703254378885, 0.8205536649611588, 0.27351788832038626, 1.0019895326054844, 1.0155511731873677, 0.8922642761634225, 0.9128986977864734, 0.22074933137330602, 0.8829973254932241, 0.5891334513630823, 0.8959764966565938, 0.9970579916645328, 1.0019877224465055, 0.5891324974801387, 0.21156339936782287, 0.6346901981034686, 0.7875373053481285, 0.8593280313474838, 0.8589049852548338, 0.5891340613658803, 0.8157530043112542, 1.0027103457211701, 0.7874046732499459, 0.9147895905711753, 0.8595234923045844, 1.0019876838188508, 1.0019880087661677, 0.8593083377168566, 0.3663344858477276, 0.7326689716954552, 0.7872922621004675, 0.920603980537194, 0.9206027942360974, 0.589132845838283, 0.8920216681941836, 0.5891340020871257, 0.45539578768999134, 0.45539578768999134, 0.5335305050156361, 0.5335305050156361, 1.0019875749855978, 0.3662022617406391, 0.7324045234812782, 0.5891335115532983, 0.90877264218764, 0.5891329391160668, 0.5891325972481823, 0.9442879847105784, 0.9206060645141277, 0.5891325463940219, 1.0019879423738294, 0.944290246425809, 0.9206027797387829, 0.7820586530215404, 1.0019879093243067, 0.8595225439498833, 0.36620354817093254, 0.7324070963418651, 0.6230185879472581, 0.20767286264908602, 0.20767286264908602, 1.0019822689203117, 0.920621881739329, 0.9206069938371342, 0.5891342937869041, 0.8949187498468888, 0.5891326540319435, 0.589135308331742, 0.9447471008138688, 0.8591387225598583, 0.4176158195676942, 0.6264237293515413, 0.6728664928576347, 0.3738147182542415, 0.9087198777743674, 0.8960347354682298, 0.9447343231676617, 0.3789636481398991, 0.5684454722098486, 0.18948182406994954, 0.4958538216319052, 0.2479269108159526, 0.2479269108159526, 0.32322851172809225, 0.6464570234561845, 0.920606519877413, 0.5891352842907862, 0.6144090150980871, 0.40960601006539143, 0.45550476955817143, 0.45550476955817143, 0.3202316989039494, 0.42697559853859923, 0.21348779926929962, 0.6489258214052487, 0.054077151783770726, 0.27038575891885364, 0.9442882833151115, 0.9174227646823344, 0.8154659409061956, 0.7170776341804018, 0.2775784390375749, 0.9918910689247211, 0.13193407761505038, 0.7916044656903023], \"Term\": [\"adelaide\", \"adelaide\", \"alice\", \"arrest\", \"arrive\", \"australian\", \"brother\", \"car\", \"challenge\", \"challenge\", \"challenge\", \"claim\", \"claim\", \"claim\", \"club\", \"converge\", \"court\", \"court\", \"court\", \"crash\", \"cupid\", \"death\", \"department\", \"ebola\", \"end\", \"eve\", \"face\", \"faithful\", \"family\", \"favour\", \"fifa\", \"flight\", \"front\", \"funding\", \"gather\", \"get\", \"get\", \"graffiti\", \"grundig\", \"house\", \"interim\", \"lead\", \"lead\", \"leader\", \"leader\", \"leave\", \"leave\", \"leaver\", \"lovelorn\", \"man\", \"man\", \"medium\", \"medium\", \"motivated\", \"mugabe\", \"murder\", \"new\", \"newspaper\", \"newspaper\", \"old\", \"opening\", \"opposition\", \"outbreak\", \"overall\", \"pakistan\", \"pakistan\", \"party\", \"perth\", \"photo\", \"pick\", \"plan\", \"play\", \"player\", \"police\", \"politically\", \"possible\", \"powerful\", \"prepare\", \"price\", \"price\", \"rally\", \"recognise\", \"refuge\", \"return\", \"rule\", \"safe\", \"save\", \"save\", \"school\", \"school\", \"secure\", \"seek\", \"seek\", \"semi\", \"set\", \"show\", \"side\", \"skandia\", \"splash\", \"sprint\", \"step\", \"streaker\", \"suspect\", \"take\", \"team\", \"tell\", \"test\", \"test\", \"third\", \"third\", \"third\", \"tiger\", \"time\", \"triangular\", \"vermeulen\", \"victory\", \"wale\", \"wall\", \"warn\", \"waugh\", \"win\", \"win\", \"woman\", \"woman\", \"wood\", \"wool\", \"woomera\", \"work\", \"work\", \"work\", \"worker\", \"worker\", \"worker\", \"world\", \"world\", \"wright\", \"write\", \"year\", \"year\", \"yemeni\", \"yemeni\", \"young\", \"young\", \"young\", \"youth\", \"youth\", \"youth\", \"zana\", \"zidane\", \"zim\", \"zimbabwe\", \"zimbabwe\", \"zimbabwes\", \"zoo\", \"zoo\"]}, \"R\": 30, \"lambda.step\": 0.01, \"plot.opts\": {\"xlab\": \"PC1\", \"ylab\": \"PC2\"}, \"topic.order\": [2, 1, 3]};\n",
       "\n",
       "function LDAvis_load_lib(url, callback){\n",
       "  var s = document.createElement('script');\n",
       "  s.src = url;\n",
       "  s.async = true;\n",
       "  s.onreadystatechange = s.onload = callback;\n",
       "  s.onerror = function(){console.warn(\"failed to load library \" + url);};\n",
       "  document.getElementsByTagName(\"head\")[0].appendChild(s);\n",
       "}\n",
       "\n",
       "if(typeof(LDAvis) !== \"undefined\"){\n",
       "   // already loaded: just create the visualization\n",
       "   !function(LDAvis){\n",
       "       new LDAvis(\"#\" + \"ldavis_el168082603777469904188128810\", ldavis_el168082603777469904188128810_data);\n",
       "   }(LDAvis);\n",
       "}else if(typeof define === \"function\" && define.amd){\n",
       "   // require.js is available: use it to load d3/LDAvis\n",
       "   require.config({paths: {d3: \"https://d3js.org/d3.v5\"}});\n",
       "   require([\"d3\"], function(d3){\n",
       "      window.d3 = d3;\n",
       "      LDAvis_load_lib(\"https://cdn.jsdelivr.net/gh/bmabey/pyLDAvis@3.3.1/pyLDAvis/js/ldavis.v3.0.0.js\", function(){\n",
       "        new LDAvis(\"#\" + \"ldavis_el168082603777469904188128810\", ldavis_el168082603777469904188128810_data);\n",
       "      });\n",
       "    });\n",
       "}else{\n",
       "    // require.js not available: dynamically load d3 & LDAvis\n",
       "    LDAvis_load_lib(\"https://d3js.org/d3.v5.js\", function(){\n",
       "         LDAvis_load_lib(\"https://cdn.jsdelivr.net/gh/bmabey/pyLDAvis@3.3.1/pyLDAvis/js/ldavis.v3.0.0.js\", function(){\n",
       "                 new LDAvis(\"#\" + \"ldavis_el168082603777469904188128810\", ldavis_el168082603777469904188128810_data);\n",
       "            })\n",
       "         });\n",
       "}\n",
       "</script>"
      ],
      "text/plain": [
       "PreparedData(topic_coordinates=              x         y  topics  cluster       Freq\n",
       "topic                                                \n",
       "1     -0.117315 -0.004252       1        1  41.583553\n",
       "0      0.062528 -0.094559       2        1  30.960502\n",
       "2      0.054788  0.098812       3        1  27.455945, topic_info=         Term       Freq      Total Category  logprob  loglift\n",
       "8    zimbabwe  43.000000  43.000000  Default  30.0000  30.0000\n",
       "503      face   6.000000   6.000000  Default  29.0000  29.0000\n",
       "27        zim   4.000000   4.000000  Default  28.0000  28.0000\n",
       "352       new   5.000000   5.000000  Default  27.0000  27.0000\n",
       "86      world   9.000000   9.000000  Default  26.0000  26.0000\n",
       "..        ...        ...        ...      ...      ...      ...\n",
       "17     worker   1.822337   8.066894   Topic3  -5.4763  -0.1951\n",
       "109  adelaide   1.326708   2.247531   Topic3  -5.7937   0.7655\n",
       "66     yemeni   1.304901   2.195367   Topic3  -5.8103   0.7724\n",
       "34       save   1.302709   2.195892   Topic3  -5.8119   0.7704\n",
       "450     leave   1.303230   2.248318   Topic3  -5.8115   0.7473\n",
       "\n",
       "[158 rows x 6 columns], token_table=      Topic      Freq       Term\n",
       "term                            \n",
       "109       1  0.444933   adelaide\n",
       "109       3  0.444933   adelaide\n",
       "908       1  0.920603      alice\n",
       "44        1  0.997293     arrest\n",
       "928       1  0.920607     arrive\n",
       "...     ...       ...        ...\n",
       "8         1  0.717078   zimbabwe\n",
       "8         2  0.277578   zimbabwe\n",
       "36        1  0.991891  zimbabwes\n",
       "266       1  0.131934        zoo\n",
       "266       2  0.791604        zoo\n",
       "\n",
       "[155 rows x 3 columns], R=30, lambda_step=0.01, plot_opts={'xlab': 'PC1', 'ylab': 'PC2'}, topic_order=[2, 1, 3])"
      ]
     },
     "execution_count": 19,
     "metadata": {},
     "output_type": "execute_result"
    }
   ],
   "source": [
    "pyLDAvis.enable_notebook()\n",
    "vis2003 = pyLDAvis.gensim_models.prepare(LDA_models2003[3], corpus2003, i2w2003)\n",
    "vis2003"
   ]
  },
  {
   "cell_type": "code",
   "execution_count": 20,
   "id": "4a8f39db",
   "metadata": {},
   "outputs": [
    {
     "data": {
      "text/html": [
       "\n",
       "<link rel=\"stylesheet\" type=\"text/css\" href=\"https://cdn.jsdelivr.net/gh/bmabey/pyLDAvis@3.3.1/pyLDAvis/js/ldavis.v1.0.0.css\">\n",
       "\n",
       "\n",
       "<div id=\"ldavis_el1680826038005624808580553319\"></div>\n",
       "<script type=\"text/javascript\">\n",
       "\n",
       "var ldavis_el1680826038005624808580553319_data = {\"mdsDat\": {\"x\": [0.05016901926887886, -0.1416756122788385, 0.09150659300995971], \"y\": [0.11048213452175998, -0.019585814351523533, -0.09089632017023648], \"topics\": [1, 2, 3], \"cluster\": [1, 1, 1], \"Freq\": [34.549124304520426, 32.93524426892643, 32.515631426553135]}, \"tinfo\": {\"Term\": [\"govt\", \"service\", \"call\", \"cat\", \"victim\", \"final\", \"charge\", \"welcome\", \"boost\", \"push\", \"concern\", \"urge\", \"strong\", \"win\", \"ban\", \"sale\", \"meet\", \"fund\", \"injure\", \"board\", \"arrest\", \"remain\", \"security\", \"amp\", \"squad\", \"protester\", \"plan\", \"defend\", \"green\", \"die\", \"charge\", \"push\", \"concern\", \"strong\", \"arrest\", \"security\", \"amp\", \"squad\", \"protester\", \"woman\", \"driver\", \"assault\", \"market\", \"teacher\", \"act\", \"test\", \"school\", \"pay\", \"taxi\", \"alleged\", \"offer\", \"insult\", \"opposition\", \"climb\", \"recover\", \"aged\", \"ground\", \"apec\", \"increase\", \"funding\", \"say\", \"call\", \"world\", \"govt\", \"service\", \"victim\", \"welcome\", \"boost\", \"urge\", \"win\", \"emergency\", \"get\", \"council\", \"talk\", \"aust\", \"film\", \"bali\", \"support\", \"refuse\", \"river\", \"flow\", \"penalty\", \"death\", \"result\", \"soldier\", \"public\", \"late\", \"murder\", \"feed\", \"company\", \"pull\", \"broken\", \"troop\", \"plan\", \"new\", \"report\", \"police\", \"cat\", \"final\", \"ban\", \"sale\", \"meet\", \"fund\", \"injure\", \"board\", \"remain\", \"green\", \"die\", \"threaten\", \"waugh\", \"finland\", \"rubin\", \"still\", \"stand\", \"italian\", \"give\", \"fur\", \"dog\", \"selection\", \"extension\", \"athlete\", \"champ\", \"semi\", \"battle\", \"la\", \"hewitt\", \"road\", \"defend\", \"call\", \"title\", \"world\"], \"Freq\": [13.0, 8.0, 13.0, 5.0, 5.0, 5.0, 5.0, 5.0, 4.0, 4.0, 4.0, 4.0, 4.0, 4.0, 3.0, 3.0, 3.0, 3.0, 3.0, 3.0, 4.0, 3.0, 4.0, 4.0, 4.0, 4.0, 4.0, 3.0, 3.0, 3.0, 4.93635397424744, 4.177149426995014, 4.173076061469263, 4.15832265419329, 3.7813094658017565, 3.7805119420632707, 3.7725163756419398, 3.7710378291816684, 3.760904325758115, 3.403363748019274, 3.4033460252695305, 3.403327520633768, 3.403307191597297, 3.4033048459392425, 3.4032957239356976, 3.4030549030421158, 3.400037604898177, 3.3906057138615533, 3.0138938122156698, 3.0138925090723063, 3.013887557127525, 3.013886775241507, 3.013885732726816, 3.013812496069785, 3.0138122354411125, 3.0138122354411125, 3.0138122354411125, 3.013811714183767, 3.013811714183767, 3.013811714183767, 4.187215427592335, 4.204757040408936, 3.8670547353505973, 13.49812754904653, 8.412454528606588, 5.336437171123169, 4.590880307695499, 4.261408903290734, 3.9305680202993027, 3.913777000371121, 3.260259185200902, 3.2517300069712767, 3.249340376157314, 3.246011340674231, 3.2407706999215877, 2.9265121354772057, 2.92650269422425, 2.926501451954124, 2.9264599601319228, 2.9264298971948786, 2.926427661108652, 2.9264234373902247, 2.926419213671797, 2.926365050694313, 2.9262574701014197, 2.9262574701014197, 2.9262564762853187, 3.2244355931295696, 2.9184855797404734, 2.913222329671541, 2.913192515188522, 2.903909527446569, 3.1958449946386165, 3.9390703654942114, 3.6337904326109647, 3.2873444007534274, 3.0280031202137176, 5.465631642503208, 4.661948004458126, 3.564085594874145, 3.5640755380421036, 3.5640174046471342, 3.552304874647991, 3.548180347068188, 3.5457039135002018, 3.5325010100502774, 3.198035795797467, 3.197954605275379, 3.197900887074964, 3.1978932831287863, 3.1973063075416044, 3.1967006900218577, 3.193436634803039, 3.1810667313924257, 3.17709305629324, 3.161119863548859, 2.8321174714030835, 2.8321162449601514, 2.832097112450415, 2.832097112450415, 2.8320963765846554, 2.8320958860074827, 2.8320473188673816, 2.8320465830016226, 2.83204609242445, 2.83204609242445, 2.83204609242445, 3.4491490049388878, 8.729305682858806, 3.649852711406928, 3.504819211924135], \"Total\": [13.0, 8.0, 13.0, 5.0, 5.0, 5.0, 5.0, 5.0, 4.0, 4.0, 4.0, 4.0, 4.0, 4.0, 3.0, 3.0, 3.0, 3.0, 3.0, 3.0, 4.0, 3.0, 4.0, 4.0, 4.0, 4.0, 4.0, 3.0, 3.0, 3.0, 5.3405012474411, 4.563374501970452, 4.563109025080129, 4.561288962222708, 4.172584090734563, 4.173429028600949, 4.172221555002101, 4.1728563887064025, 4.171010933790189, 3.784725887360855, 3.784724309059311, 3.7847210682324293, 3.7847196364946, 3.784722781699435, 3.7847182778988966, 3.7846968845445152, 3.784506061450271, 3.782919068491324, 3.3952389599645065, 3.3952386019727374, 3.395238242660233, 3.3952384323353813, 3.3952382608915204, 3.3952296700965676, 3.3952296051068904, 3.3952296885829933, 3.395229748718101, 3.395229326764052, 3.3952293845250803, 3.395229402427536, 6.027886810544819, 13.125352244447967, 9.954967960098992, 13.917530799314255, 8.827913024801402, 5.747528057040096, 5.013080375530884, 4.6778026712112615, 4.34241977900744, 4.344281201376211, 3.6726583072026577, 3.6740134726438916, 3.6739648473489805, 3.6749382090768474, 3.6757890048714277, 3.3375626024523712, 3.3375638199675004, 3.337563116174118, 3.337567984792412, 3.337571423657841, 3.3375718982767326, 3.3375713595154872, 3.3375728371161224, 3.3375781614585724, 3.3375897597299957, 3.3375902379865936, 3.3375897403951513, 3.6784424667410636, 3.3382917895035815, 3.3389485373865524, 3.339685261980382, 3.3396300279410416, 3.683098057603463, 4.729381348251725, 5.948634516409618, 4.817270249511608, 4.8005858952221905, 5.859869183410939, 5.056244766593478, 3.958253839098603, 3.958254559070437, 3.9582517753995257, 3.9577694383388544, 3.9592161603906413, 3.959015850227811, 3.9555590230540165, 3.5922519291932176, 3.592255802031328, 3.5922467118825514, 3.5922523954547243, 3.5922414689980133, 3.592136317132284, 3.5918557775121562, 3.590803844406489, 3.5935443796874122, 3.5945654251246233, 3.2262542177144518, 3.2262542002021455, 3.2262540494256573, 3.2262544956339334, 3.2262542215048264, 3.226254513884655, 3.22625207506496, 3.2262521475764796, 3.226252071699981, 3.226252090892154, 3.226252270665996, 3.9484800720964435, 13.125352244447967, 4.971863063935899, 9.954967960098992], \"Category\": [\"Default\", \"Default\", \"Default\", \"Default\", \"Default\", \"Default\", \"Default\", \"Default\", \"Default\", \"Default\", \"Default\", \"Default\", \"Default\", \"Default\", \"Default\", \"Default\", \"Default\", \"Default\", \"Default\", \"Default\", \"Default\", \"Default\", \"Default\", \"Default\", \"Default\", \"Default\", \"Default\", \"Default\", \"Default\", \"Default\", \"Topic1\", \"Topic1\", \"Topic1\", \"Topic1\", \"Topic1\", \"Topic1\", \"Topic1\", \"Topic1\", \"Topic1\", \"Topic1\", \"Topic1\", \"Topic1\", \"Topic1\", \"Topic1\", \"Topic1\", \"Topic1\", \"Topic1\", \"Topic1\", \"Topic1\", \"Topic1\", \"Topic1\", \"Topic1\", \"Topic1\", \"Topic1\", \"Topic1\", \"Topic1\", \"Topic1\", \"Topic1\", \"Topic1\", \"Topic1\", \"Topic1\", \"Topic1\", \"Topic1\", \"Topic2\", \"Topic2\", \"Topic2\", \"Topic2\", \"Topic2\", \"Topic2\", \"Topic2\", \"Topic2\", \"Topic2\", \"Topic2\", \"Topic2\", \"Topic2\", \"Topic2\", \"Topic2\", \"Topic2\", \"Topic2\", \"Topic2\", \"Topic2\", \"Topic2\", \"Topic2\", \"Topic2\", \"Topic2\", \"Topic2\", \"Topic2\", \"Topic2\", \"Topic2\", \"Topic2\", \"Topic2\", \"Topic2\", \"Topic2\", \"Topic2\", \"Topic2\", \"Topic2\", \"Topic2\", \"Topic3\", \"Topic3\", \"Topic3\", \"Topic3\", \"Topic3\", \"Topic3\", \"Topic3\", \"Topic3\", \"Topic3\", \"Topic3\", \"Topic3\", \"Topic3\", \"Topic3\", \"Topic3\", \"Topic3\", \"Topic3\", \"Topic3\", \"Topic3\", \"Topic3\", \"Topic3\", \"Topic3\", \"Topic3\", \"Topic3\", \"Topic3\", \"Topic3\", \"Topic3\", \"Topic3\", \"Topic3\", \"Topic3\", \"Topic3\", \"Topic3\", \"Topic3\", \"Topic3\", \"Topic3\"], \"logprob\": [30.0, 29.0, 28.0, 27.0, 26.0, 25.0, 24.0, 23.0, 22.0, 21.0, 20.0, 19.0, 18.0, 17.0, 16.0, 15.0, 14.0, 13.0, 12.0, 11.0, 10.0, 9.0, 8.0, 7.0, 6.0, 5.0, 4.0, 3.0, 2.0, 1.0, -4.7308, -4.8978, -4.8987, -4.9023, -4.9973, -4.9975, -4.9997, -5.0, -5.0027, -5.1026, -5.1026, -5.1026, -5.1026, -5.1026, -5.1026, -5.1027, -5.1036, -5.1064, -5.2242, -5.2242, -5.2242, -5.2242, -5.2242, -5.2242, -5.2242, -5.2242, -5.2242, -5.2242, -5.2242, -5.2242, -4.8954, -4.8912, -4.9749, -3.677, -4.1498, -4.605, -4.7555, -4.83, -4.9108, -4.9151, -5.0977, -5.1004, -5.1011, -5.1021, -5.1037, -5.2057, -5.2057, -5.2057, -5.2058, -5.2058, -5.2058, -5.2058, -5.2058, -5.2058, -5.2058, -5.2058, -5.2058, -5.1088, -5.2085, -5.2103, -5.2103, -5.2135, -5.1177, -4.9086, -4.9893, -5.0895, -5.1717, -4.5683, -4.7273, -4.9958, -4.9958, -4.9958, -4.9991, -5.0003, -5.001, -5.0047, -5.1042, -5.1042, -5.1042, -5.1042, -5.1044, -5.1046, -5.1056, -5.1095, -5.1108, -5.1158, -5.2257, -5.2257, -5.2257, -5.2257, -5.2257, -5.2257, -5.2257, -5.2257, -5.2257, -5.2257, -5.2257, -5.0286, -4.1, -4.972, -5.0126], \"loglift\": [30.0, 29.0, 28.0, 27.0, 26.0, 25.0, 24.0, 23.0, 22.0, 21.0, 20.0, 19.0, 18.0, 17.0, 16.0, 15.0, 14.0, 13.0, 12.0, 11.0, 10.0, 9.0, 8.0, 7.0, 6.0, 5.0, 4.0, 3.0, 2.0, 1.0, 0.9841, 0.9744, 0.9734, 0.9703, 0.9643, 0.9639, 0.9621, 0.9615, 0.9593, 0.9566, 0.9566, 0.9566, 0.9566, 0.9566, 0.9566, 0.9565, 0.9557, 0.9533, 0.9436, 0.9436, 0.9436, 0.9436, 0.9436, 0.9436, 0.9436, 0.9436, 0.9436, 0.9436, 0.9436, 0.9436, 0.6984, -0.0755, 0.1172, 1.08, 1.0624, 1.0364, 1.0226, 1.0174, 1.011, 1.0063, 0.9915, 0.9885, 0.9878, 0.9865, 0.9847, 0.9792, 0.9792, 0.9792, 0.9792, 0.9792, 0.9792, 0.9792, 0.9792, 0.9791, 0.9791, 0.9791, 0.9791, 0.9789, 0.9762, 0.9742, 0.974, 0.9708, 0.9687, 0.9278, 0.6177, 0.7285, 0.6498, 1.0538, 1.0423, 1.0186, 1.0186, 1.0185, 1.0154, 1.0138, 1.0132, 1.0103, 1.0072, 1.0072, 1.0072, 1.0072, 1.007, 1.0068, 1.0059, 1.0023, 1.0003, 0.995, 0.9932, 0.9932, 0.9931, 0.9931, 0.9931, 0.9931, 0.9931, 0.9931, 0.9931, 0.9931, 0.9931, 0.9882, 0.7156, 0.8143, 0.0795]}, \"token.table\": {\"Topic\": [1, 1, 1, 1, 1, 1, 1, 3, 2, 2, 3, 3, 3, 2, 2, 1, 3, 3, 3, 1, 1, 2, 1, 2, 2, 3, 3, 3, 1, 2, 3, 2, 2, 3, 3, 2, 3, 1, 3, 2, 3, 2, 3, 1, 3, 1, 3, 1, 3, 3, 2, 1, 3, 2, 1, 2, 1, 1, 1, 2, 1, 2, 1, 2, 1, 2, 2, 1, 1, 2, 3, 1, 2, 2, 2, 3, 3, 3, 1, 3, 1, 1, 3, 3, 2, 2, 1, 3, 3, 1, 2, 2, 1, 1, 1, 3, 2, 3, 2, 2, 2, 3, 2, 2, 1, 1, 2, 3], \"Freq\": [0.7926613765464898, 0.883592650620364, 0.8835903309584512, 0.95872185771256, 0.8835927447820617, 0.9586385589884708, 0.7926607921468527, 0.9298709258567682, 0.8161513068416544, 0.8988592164296689, 1.0105466103484924, 0.9298715236047382, 1.010352105503652, 0.8551023378171374, 0.8983030979181753, 0.3047537258812999, 0.6856958832329247, 0.8532613687272755, 0.9298708415870677, 0.9362417062248134, 0.8835926554313699, 0.8984864445823856, 0.8765953164859477, 0.8165565335130267, 0.8988567879741594, 0.7597860303767854, 0.8351298363283531, 0.9298709319966265, 0.7926601133982324, 0.8168470217108219, 0.9298708468472894, 0.8986632053653144, 0.8988595443260488, 0.9888761780353107, 0.8351331684940412, 0.8988570408172992, 1.0106702935375818, 0.8835927250909901, 0.9298709269492299, 0.8165457264480692, 0.834593238735108, 0.9340737367465022, 0.8351307366891076, 0.8835926349704837, 0.9298715399423148, 0.8835927297500212, 1.010300988366681, 0.8835903751055503, 0.8348303744229695, 0.9298715454738897, 0.898852235698932, 0.7926610920059046, 1.0105471372134383, 0.8155625722366854, 0.33621161200656985, 0.6724232240131397, 0.8835904244673691, 0.8835904197227858, 0.7930383774232944, 0.8988571859136243, 0.21144414593880498, 0.8457765837552199, 0.4166158139135706, 0.624923720870356, 0.9590001233502421, 0.8988521016917147, 0.8982882411563077, 0.8765443200580647, 0.88359267234463, 0.8988580947772341, 1.011235068592573, 0.20758644381667885, 0.6227593314500366, 0.8988553540537773, 0.8988571686391429, 0.9298714881278362, 0.8351576151750819, 1.0105464265389152, 0.6635824669107327, 0.3317912334553664, 0.7927058250899885, 0.9584444763736435, 0.9298709754534255, 0.9298715445040343, 0.9062164497457735, 0.8988522304918307, 0.9585760034363443, 0.8354675248198803, 0.8352228446315582, 0.8769450988807355, 0.8988594059725018, 0.8163402564402863, 0.8835902377932662, 0.7926604332835508, 0.792665857139322, 0.8351319496170744, 0.20113184678267573, 0.8045273871307029, 0.8145316668413806, 0.9211453990093725, 0.8699392069736039, 0.8351306282921264, 0.9973907508854775, 0.9207507098603223, 0.7926597828441267, 0.40180942982766005, 0.30135707237074505, 0.40180942982766005], \"Term\": [\"act\", \"aged\", \"alleged\", \"amp\", \"apec\", \"arrest\", \"assault\", \"athlete\", \"aust\", \"bali\", \"ban\", \"battle\", \"board\", \"boost\", \"broken\", \"call\", \"call\", \"cat\", \"champ\", \"charge\", \"climb\", \"company\", \"concern\", \"council\", \"death\", \"defend\", \"die\", \"dog\", \"driver\", \"emergency\", \"extension\", \"feed\", \"film\", \"final\", \"finland\", \"flow\", \"fund\", \"funding\", \"fur\", \"get\", \"give\", \"govt\", \"green\", \"ground\", \"hewitt\", \"increase\", \"injure\", \"insult\", \"italian\", \"la\", \"late\", \"market\", \"meet\", \"murder\", \"new\", \"new\", \"offer\", \"opposition\", \"pay\", \"penalty\", \"plan\", \"plan\", \"police\", \"police\", \"protester\", \"public\", \"pull\", \"push\", \"recover\", \"refuse\", \"remain\", \"report\", \"report\", \"result\", \"river\", \"road\", \"rubin\", \"sale\", \"say\", \"say\", \"school\", \"security\", \"selection\", \"semi\", \"service\", \"soldier\", \"squad\", \"stand\", \"still\", \"strong\", \"support\", \"talk\", \"taxi\", \"teacher\", \"test\", \"threaten\", \"title\", \"title\", \"troop\", \"urge\", \"victim\", \"waugh\", \"welcome\", \"win\", \"woman\", \"world\", \"world\", \"world\"]}, \"R\": 30, \"lambda.step\": 0.01, \"plot.opts\": {\"xlab\": \"PC1\", \"ylab\": \"PC2\"}, \"topic.order\": [2, 3, 1]};\n",
       "\n",
       "function LDAvis_load_lib(url, callback){\n",
       "  var s = document.createElement('script');\n",
       "  s.src = url;\n",
       "  s.async = true;\n",
       "  s.onreadystatechange = s.onload = callback;\n",
       "  s.onerror = function(){console.warn(\"failed to load library \" + url);};\n",
       "  document.getElementsByTagName(\"head\")[0].appendChild(s);\n",
       "}\n",
       "\n",
       "if(typeof(LDAvis) !== \"undefined\"){\n",
       "   // already loaded: just create the visualization\n",
       "   !function(LDAvis){\n",
       "       new LDAvis(\"#\" + \"ldavis_el1680826038005624808580553319\", ldavis_el1680826038005624808580553319_data);\n",
       "   }(LDAvis);\n",
       "}else if(typeof define === \"function\" && define.amd){\n",
       "   // require.js is available: use it to load d3/LDAvis\n",
       "   require.config({paths: {d3: \"https://d3js.org/d3.v5\"}});\n",
       "   require([\"d3\"], function(d3){\n",
       "      window.d3 = d3;\n",
       "      LDAvis_load_lib(\"https://cdn.jsdelivr.net/gh/bmabey/pyLDAvis@3.3.1/pyLDAvis/js/ldavis.v3.0.0.js\", function(){\n",
       "        new LDAvis(\"#\" + \"ldavis_el1680826038005624808580553319\", ldavis_el1680826038005624808580553319_data);\n",
       "      });\n",
       "    });\n",
       "}else{\n",
       "    // require.js not available: dynamically load d3 & LDAvis\n",
       "    LDAvis_load_lib(\"https://d3js.org/d3.v5.js\", function(){\n",
       "         LDAvis_load_lib(\"https://cdn.jsdelivr.net/gh/bmabey/pyLDAvis@3.3.1/pyLDAvis/js/ldavis.v3.0.0.js\", function(){\n",
       "                 new LDAvis(\"#\" + \"ldavis_el1680826038005624808580553319\", ldavis_el1680826038005624808580553319_data);\n",
       "            })\n",
       "         });\n",
       "}\n",
       "</script>"
      ],
      "text/plain": [
       "PreparedData(topic_coordinates=              x         y  topics  cluster       Freq\n",
       "topic                                                \n",
       "1      0.050169  0.110482       1        1  34.549124\n",
       "2     -0.141676 -0.019586       2        1  32.935244\n",
       "0      0.091507 -0.090896       3        1  32.515631, topic_info=         Term       Freq      Total Category  logprob  loglift\n",
       "157      govt  13.000000  13.000000  Default  30.0000  30.0000\n",
       "375   service   8.000000   8.000000  Default  29.0000  29.0000\n",
       "193      call  13.000000  13.000000  Default  28.0000  28.0000\n",
       "1029      cat   5.000000   5.000000  Default  27.0000  27.0000\n",
       "683    victim   5.000000   5.000000  Default  26.0000  26.0000\n",
       "...       ...        ...        ...      ...      ...      ...\n",
       "1045     road   2.832046   3.226252   Topic3  -5.2257   0.9931\n",
       "330    defend   3.449149   3.948480   Topic3  -5.0286   0.9882\n",
       "193      call   8.729306  13.125352   Topic3  -4.1000   0.7156\n",
       "122     title   3.649853   4.971863   Topic3  -4.9720   0.8143\n",
       "68      world   3.504819   9.954968   Topic3  -5.0126   0.0795\n",
       "\n",
       "[131 rows x 6 columns], token_table=      Topic      Freq     Term\n",
       "term                          \n",
       "705       1  0.792661      act\n",
       "1023      1  0.883593     aged\n",
       "1037      1  0.883590  alleged\n",
       "237       1  0.958722      amp\n",
       "1083      1  0.883593     apec\n",
       "...     ...       ...      ...\n",
       "49        2  0.920751      win\n",
       "109       1  0.792660    woman\n",
       "68        1  0.401809    world\n",
       "68        2  0.301357    world\n",
       "68        3  0.401809    world\n",
       "\n",
       "[108 rows x 3 columns], R=30, lambda_step=0.01, plot_opts={'xlab': 'PC1', 'ylab': 'PC2'}, topic_order=[2, 3, 1])"
      ]
     },
     "execution_count": 20,
     "metadata": {},
     "output_type": "execute_result"
    }
   ],
   "source": [
    "vis2020 = pyLDAvis.gensim_models.prepare(LDA_models2020[3], corpus2020, i2w2020)\n",
    "vis2020"
   ]
  },
  {
   "cell_type": "code",
   "execution_count": null,
   "id": "a179d682",
   "metadata": {},
   "outputs": [],
   "source": []
  }
 ],
 "metadata": {
  "kernelspec": {
   "display_name": "Python 3",
   "language": "python",
   "name": "python3"
  },
  "language_info": {
   "codemirror_mode": {
    "name": "ipython",
    "version": 3
   },
   "file_extension": ".py",
   "mimetype": "text/x-python",
   "name": "python",
   "nbconvert_exporter": "python",
   "pygments_lexer": "ipython3",
   "version": "3.8.3"
  }
 },
 "nbformat": 4,
 "nbformat_minor": 5
}
